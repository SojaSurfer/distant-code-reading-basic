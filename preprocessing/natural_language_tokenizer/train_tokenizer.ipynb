{
 "cells": [
  {
   "cell_type": "code",
   "execution_count": null,
   "id": "34510e34",
   "metadata": {},
   "outputs": [],
   "source": [
    "import datasets\n",
    "from transformers import AutoTokenizer, BertTokenizerFast\n",
    "\n",
    "from pathlib import Path\n",
    "from typing import Generator"
   ]
  },
  {
   "cell_type": "code",
   "execution_count": 3,
   "id": "21471fba",
   "metadata": {},
   "outputs": [
    {
     "name": "stderr",
     "output_type": "stream",
     "text": [
      "Generating train split: 99 examples [00:00, 7216.73 examples/s]\n"
     ]
    }
   ],
   "source": [
    "\n",
    "ds_path = '/Users/julian/Documents/3 - Bildung/31 - Studium/314 Universität Stuttgart/314.2 Semester 2/Projektarbeit/corpus/dataset/dataset.parquet'\n",
    "ds = datasets.Dataset.from_parquet(ds_path)\n",
    "\n",
    "dsdict = ds.train_test_split(test_size=0.2)"
   ]
  },
  {
   "cell_type": "code",
   "execution_count": 6,
   "id": "97217eef",
   "metadata": {},
   "outputs": [
    {
     "name": "stdout",
     "output_type": "stream",
     "text": [
      "DatasetDict({\n",
      "    train: Dataset({\n",
      "        features: ['disk', 'name', 'date', 'length', 'code'],\n",
      "        num_rows: 79\n",
      "    })\n",
      "    test: Dataset({\n",
      "        features: ['disk', 'name', 'date', 'length', 'code'],\n",
      "        num_rows: 20\n",
      "    })\n",
      "})\n"
     ]
    }
   ],
   "source": [
    "print(dsdict)\n",
    "# print(dsdict['train'][12]['code'])\n"
   ]
  },
  {
   "cell_type": "code",
   "execution_count": 19,
   "id": "4c817aef",
   "metadata": {},
   "outputs": [],
   "source": [
    "def get_training_corpus(batch_size:int) -> Generator:\n",
    "    return (\n",
    "        dsdict[\"train\"][i : i + batch_size][\"code\"]\n",
    "        for i in range(0, len(dsdict[\"train\"]), batch_size)\n",
    "    )"
   ]
  },
  {
   "cell_type": "code",
   "execution_count": 21,
   "id": "6f5c0c27",
   "metadata": {},
   "outputs": [
    {
     "name": "stdout",
     "output_type": "stream",
     "text": [
      "<class 'list'> 32 <class 'str'>\n",
      "<class 'list'> 32 <class 'str'>\n",
      "<class 'list'> 15 <class 'str'>\n"
     ]
    }
   ],
   "source": [
    "for x in get_training_corpus(32):\n",
    "    print(type(x), len(x), type(x[0]))"
   ]
  },
  {
   "cell_type": "code",
   "execution_count": 25,
   "id": "427c0d25",
   "metadata": {},
   "outputs": [],
   "source": [
    "old_tokenizer = BertTokenizerFast.from_pretrained(\"bert-base-uncased\")\n",
    "\n",
    "example = '10110 fori=256to511:pokef+i,peek(c+i):next:forz=0to31step8'"
   ]
  },
  {
   "cell_type": "code",
   "execution_count": null,
   "id": "64844ded",
   "metadata": {},
   "outputs": [],
   "source": [
    "# old_tokenizer.tokenize(example)"
   ]
  },
  {
   "cell_type": "code",
   "execution_count": 28,
   "id": "d41a3898",
   "metadata": {},
   "outputs": [
    {
     "name": "stdout",
     "output_type": "stream",
     "text": [
      "\n",
      "\n",
      "\n"
     ]
    }
   ],
   "source": [
    "tokenizer = old_tokenizer.train_new_from_iterator(get_training_corpus(batch_size=32),\n",
    "                                                  old_tokenizer.vocab_size)"
   ]
  },
  {
   "cell_type": "code",
   "execution_count": 29,
   "id": "9e171463",
   "metadata": {},
   "outputs": [
    {
     "data": {
      "text/plain": [
       "['10110',\n",
       " 'fori',\n",
       " '=',\n",
       " '256',\n",
       " '##to5',\n",
       " '##11',\n",
       " ':',\n",
       " 'pokef',\n",
       " '+',\n",
       " 'i',\n",
       " ',',\n",
       " 'peek',\n",
       " '(',\n",
       " 'c',\n",
       " '+',\n",
       " 'i',\n",
       " ')',\n",
       " ':',\n",
       " 'next',\n",
       " ':',\n",
       " 'forz',\n",
       " '=',\n",
       " '0to3',\n",
       " '##1step',\n",
       " '##8']"
      ]
     },
     "execution_count": 29,
     "metadata": {},
     "output_type": "execute_result"
    }
   ],
   "source": [
    "tokenizer.tokenize(example)"
   ]
  },
  {
   "cell_type": "code",
   "execution_count": 32,
   "id": "987c274b",
   "metadata": {},
   "outputs": [
    {
     "data": {
      "text/plain": [
       "('/Users/julian/Documents/3 - Bildung/31 - Studium/314 Universität Stuttgart/314.2 Semester 2/Projektarbeit/repository/inference/tokenization/models/BertTokenizerFast_trained/tokenizer_config.json',\n",
       " '/Users/julian/Documents/3 - Bildung/31 - Studium/314 Universität Stuttgart/314.2 Semester 2/Projektarbeit/repository/inference/tokenization/models/BertTokenizerFast_trained/special_tokens_map.json',\n",
       " '/Users/julian/Documents/3 - Bildung/31 - Studium/314 Universität Stuttgart/314.2 Semester 2/Projektarbeit/repository/inference/tokenization/models/BertTokenizerFast_trained/vocab.txt',\n",
       " '/Users/julian/Documents/3 - Bildung/31 - Studium/314 Universität Stuttgart/314.2 Semester 2/Projektarbeit/repository/inference/tokenization/models/BertTokenizerFast_trained/added_tokens.json',\n",
       " '/Users/julian/Documents/3 - Bildung/31 - Studium/314 Universität Stuttgart/314.2 Semester 2/Projektarbeit/repository/inference/tokenization/models/BertTokenizerFast_trained/tokenizer.json')"
      ]
     },
     "execution_count": 32,
     "metadata": {},
     "output_type": "execute_result"
    }
   ],
   "source": [
    "savedir = Path(\"/Users/julian/Documents/3 - Bildung/31 - Studium/314 Universität Stuttgart/314.2 Semester 2/Projektarbeit/repository/inference/tokenization/models\")\n",
    "savedir = savedir / f'{old_tokenizer.__class__.__qualname__}_trained'\n",
    "savedir.mkdir(exist_ok=True)\n",
    "\n",
    "\n",
    "tokenizer.save_pretrained(save_directory=savedir)"
   ]
  }
 ],
 "metadata": {
  "kernelspec": {
   "display_name": "venv",
   "language": "python",
   "name": "python3"
  },
  "language_info": {
   "codemirror_mode": {
    "name": "ipython",
    "version": 3
   },
   "file_extension": ".py",
   "mimetype": "text/x-python",
   "name": "python",
   "nbconvert_exporter": "python",
   "pygments_lexer": "ipython3",
   "version": "3.12.6"
  }
 },
 "nbformat": 4,
 "nbformat_minor": 5
}
